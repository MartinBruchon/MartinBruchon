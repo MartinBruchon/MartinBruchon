{
  "nbformat": 4,
  "nbformat_minor": 0,
  "metadata": {
    "colab": {
      "provenance": [],
      "authorship_tag": "ABX9TyM0nL2uTxVCJaYxBgqM4Jpg",
      "include_colab_link": true
    },
    "kernelspec": {
      "name": "python3",
      "display_name": "Python 3"
    },
    "language_info": {
      "name": "python"
    },
    "gpuClass": "standard"
  },
  "cells": [
    {
      "cell_type": "markdown",
      "metadata": {
        "id": "view-in-github",
        "colab_type": "text"
      },
      "source": [
        "<a href=\"https://colab.research.google.com/github/MartinBruchon/MartinBruchon/blob/main/crop.ipynb\" target=\"_parent\"><img src=\"https://colab.research.google.com/assets/colab-badge.svg\" alt=\"Open In Colab\"/></a>"
      ]
    },
    {
      "cell_type": "code",
      "execution_count": 1,
      "metadata": {
        "id": "qQewGylAAHZx"
      },
      "outputs": [],
      "source": [
        "!unzip -q Pellicule.zip"
      ]
    },
    {
      "cell_type": "code",
      "source": [
        "!rm Pellicule.zip\n",
        "!mkdir images"
      ],
      "metadata": {
        "id": "JnSJ57LRAgul",
        "outputId": "7f6e3734-107e-42a8-d7de-e69dd953690f",
        "colab": {
          "base_uri": "https://localhost:8080/"
        }
      },
      "execution_count": 7,
      "outputs": [
        {
          "output_type": "stream",
          "name": "stdout",
          "text": [
            "rm: cannot remove 'Pellicule.zip': No such file or directory\n"
          ]
        }
      ]
    },
    {
      "cell_type": "code",
      "source": [
        "import numpy as np\n",
        "from PIL import Image\n",
        "import os\n",
        "from matplotlib import pyplot as plt\n",
        "\n",
        "for file in os.listdir(\"/content/Camera Roll\"):\n",
        "  if file[0] != \".\" and file != \"desktop.ini\":\n",
        "    img = Image.open(\"/content/Camera Roll/\" + file)\n",
        "    img = np.asarray(img)\n",
        "    size = 64\n",
        "    X = int(np.shape(img)[0]/size)\n",
        "    Y = int(np.shape(img)[1]/size)\n",
        "    name = file.split(\".\")[0]\n",
        "    for i in range(0,X):\n",
        "      for j in range (0,Y):\n",
        "        new = img[i*size:(i+1)*size, j*size:(j+1)*size]\n",
        "        plt.imsave(\"./images/\" + name + str(i) + str(j) + \".jpg\", new, cmap=\"gray\")\n"
      ],
      "metadata": {
        "id": "Hp53cudtAV4Z"
      },
      "execution_count": 8,
      "outputs": []
    },
    {
      "cell_type": "code",
      "source": [
        "!zip -r -q ./images.zip ./images/"
      ],
      "metadata": {
        "id": "lxB5PthyB6lz"
      },
      "execution_count": 9,
      "outputs": []
    },
    {
      "cell_type": "code",
      "source": [
        " from google.colab import files \n",
        " files.download ('/content/images.zip')"
      ],
      "metadata": {
        "id": "IYT7dntNggO1",
        "outputId": "ace46ee3-4912-4710-a241-a65fbd86ea84",
        "colab": {
          "base_uri": "https://localhost:8080/",
          "height": 17
        }
      },
      "execution_count": 10,
      "outputs": [
        {
          "output_type": "display_data",
          "data": {
            "text/plain": [
              "<IPython.core.display.Javascript object>"
            ],
            "application/javascript": [
              "\n",
              "    async function download(id, filename, size) {\n",
              "      if (!google.colab.kernel.accessAllowed) {\n",
              "        return;\n",
              "      }\n",
              "      const div = document.createElement('div');\n",
              "      const label = document.createElement('label');\n",
              "      label.textContent = `Downloading \"${filename}\": `;\n",
              "      div.appendChild(label);\n",
              "      const progress = document.createElement('progress');\n",
              "      progress.max = size;\n",
              "      div.appendChild(progress);\n",
              "      document.body.appendChild(div);\n",
              "\n",
              "      const buffers = [];\n",
              "      let downloaded = 0;\n",
              "\n",
              "      const channel = await google.colab.kernel.comms.open(id);\n",
              "      // Send a message to notify the kernel that we're ready.\n",
              "      channel.send({})\n",
              "\n",
              "      for await (const message of channel.messages) {\n",
              "        // Send a message to notify the kernel that we're ready.\n",
              "        channel.send({})\n",
              "        if (message.buffers) {\n",
              "          for (const buffer of message.buffers) {\n",
              "            buffers.push(buffer);\n",
              "            downloaded += buffer.byteLength;\n",
              "            progress.value = downloaded;\n",
              "          }\n",
              "        }\n",
              "      }\n",
              "      const blob = new Blob(buffers, {type: 'application/binary'});\n",
              "      const a = document.createElement('a');\n",
              "      a.href = window.URL.createObjectURL(blob);\n",
              "      a.download = filename;\n",
              "      div.appendChild(a);\n",
              "      a.click();\n",
              "      div.remove();\n",
              "    }\n",
              "  "
            ]
          },
          "metadata": {}
        },
        {
          "output_type": "display_data",
          "data": {
            "text/plain": [
              "<IPython.core.display.Javascript object>"
            ],
            "application/javascript": [
              "download(\"download_7791e668-2020-4fe8-afca-8e6d64b16de0\", \"images.zip\", 3911028)"
            ]
          },
          "metadata": {}
        }
      ]
    },
    {
      "cell_type": "code",
      "source": [
        "!rm -r images\n",
        "!rm images.zip"
      ],
      "metadata": {
        "id": "iB100kTyac9J"
      },
      "execution_count": 6,
      "outputs": []
    }
  ]
}